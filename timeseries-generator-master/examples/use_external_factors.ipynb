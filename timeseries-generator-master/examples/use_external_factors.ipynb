{
 "cells": [
  {
   "cell_type": "markdown",
   "metadata": {
    "collapsed": true
   },
   "source": [
    "# External Factors\n",
    "The timeseries generator also supports using a few external factors that are publicly available, to give your dataset a more \"real world\" look.\n",
    "In this notebook, we show how these external factors can be used"
   ]
  },
  {
   "cell_type": "code",
   "execution_count": null,
   "metadata": {
    "pycharm": {
     "is_executing": true,
     "name": "#%%\n"
    }
   },
   "outputs": [],
   "source": [
    "from pandas._libs.tslibs.timestamps import Timestamp\n",
    "from timeseries_generator.external_factors import CountryGdpFactor, EUIndustryProductFactor\n",
    "from timeseries_generator import Generator, HolidayFactor, RandomFeatureFactor, SinusoidalFactor, WeekdayFactor, WhiteNoise\n",
    "\n",
    "import pandas as pd"
   ]
  },
  {
   "cell_type": "markdown",
   "metadata": {
    "pycharm": {
     "name": "#%% md\n"
    }
   },
   "source": [
    "The first component that we have is the Country GDP factor. This gives a factor based on the GDP of the countries\n",
    "involved. The following snippet shows an example of the resulting dataframe. By default it uses the countries Italy, Netherlands and Romania."
   ]
  },
  {
   "cell_type": "code",
   "execution_count": null,
   "metadata": {
    "pycharm": {
     "name": "#%%\n"
    }
   },
   "outputs": [],
   "source": [
    "start_date = Timestamp(\"01-01-2018\")\n",
    "end_date = Timestamp(\"01-01-2020\")\n",
    "\n",
    "c_gdp_factor = CountryGdpFactor()\n",
    "c_gdp_factor.plot(start_date=start_date, end_date=end_date)"
   ]
  },
  {
   "cell_type": "markdown",
   "metadata": {},
   "source": [
    "Another built-in factor is the `EUIndustryProductFactor`. This factor creates a factor based on the industry product factor based on public data of the ECB (European Central Bank) This data is unique per year over the whole of Europe."
   ]
  },
  {
   "cell_type": "code",
   "execution_count": null,
   "metadata": {},
   "outputs": [],
   "source": [
    "eu_industry_product_factor = EUIndustryProductFactor()\n",
    "eu_industry_product_factor.plot(start_date=start_date, end_date=end_date)"
   ]
  },
  {
   "cell_type": "markdown",
   "metadata": {},
   "source": [
    "Holidays play a large role in sales of consumer products. We therefore included a holiday factor which makes use of the excellent `workalendar` package. You can enter a holiday factor, and include special holidays. In this case, Christmas gets a custom factor. We smooth the factors here, as we know that not all presents get bought on the same day."
   ]
  },
  {
   "cell_type": "code",
   "execution_count": null,
   "metadata": {},
   "outputs": [],
   "source": [
    "holiday_factor = HolidayFactor(\n",
    "    holiday_factor=2.,\n",
    "    special_holiday_factors={\n",
    "        \"Christmas Day\": 10.\n",
    "    }\n",
    ")\n",
    "holiday_factor.plot(start_date=start_date, end_date=end_date)"
   ]
  },
  {
   "cell_type": "markdown",
   "metadata": {},
   "source": [
    "Sales are also expected to rise during the weekends. For these kinds of usecases, we have included the `WeekdayFactor`. This factor also works with the `workalendar` package. You can give different days of the week different factors:"
   ]
  },
  {
   "cell_type": "code",
   "execution_count": null,
   "metadata": {},
   "outputs": [],
   "source": [
    "weekday_factor = WeekdayFactor(\n",
    "    col_name=\"weekend_boost_factor\",\n",
    "    factor_values={4: 1.15, 5: 1.3, 6: 1.3}  # Here we assign a factor of 1.15 to Friday, and 1.3 to Sat/Sun \n",
    ")\n",
    "weekday_factor.plot(start_date=start_date, end_date=\"01-31-2018\")  # Using a smaller timerange here to keep the plot viewable"
   ]
  },
  {
   "cell_type": "markdown",
   "metadata": {
    "pycharm": {
     "name": "#%% md\n"
    }
   },
   "source": [
    "Different products have different sales numbers. The same holds for different stores. Here, this is simulated by using a random factor for both our different stores and our different products."
   ]
  },
  {
   "cell_type": "code",
   "execution_count": null,
   "metadata": {
    "pycharm": {
     "name": "#%%\n"
    }
   },
   "outputs": [],
   "source": [
    "feature_store_random_components = RandomFeatureFactor(\n",
    "    feature_values=[\"store1\", \"store2\", \"store3\"],\n",
    "    feature=\"store\",\n",
    "    col_name=\"random_store_factor\"\n",
    ")\n",
    "feature_store_random_components.plot(start_date=start_date, end_date=end_date)\n",
    "\n",
    "feature_product_random_components = RandomFeatureFactor(\n",
    "    feature_values=[\"winter jacket\", \"Yoga Mat\", \"basketball top\"],\n",
    "    feature=\"product\",\n",
    "    col_name=\"random_product_factor\"\n",
    ")\n",
    "feature_product_random_components.plot(start_date=start_date, end_date=end_date)"
   ]
  },
  {
   "cell_type": "markdown",
   "metadata": {
    "pycharm": {
     "name": "#%% md\n"
    }
   },
   "source": [
    "Not all products sell the same amount all year long. We simulate this by introducing a sinusoidal factor working on both the winter jacket and basketball top products. Ny using a wavelength of a year and different phases (unit here is in days) we simulate summer and winter sales."
   ]
  },
  {
   "cell_type": "code",
   "execution_count": null,
   "metadata": {
    "pycharm": {
     "name": "#%%\n"
    }
   },
   "outputs": [],
   "source": [
    "product_seasonal_components = SinusoidalFactor(\n",
    "    feature=\"product\",\n",
    "    col_name=\"product_seasonal_trend_factor\",\n",
    "    feature_values={\n",
    "        \"winter jacket\": {\n",
    "            \"wavelength\": 365.,\n",
    "            \"amplitude\": 0.2,\n",
    "            \"phase\": 365/4,\n",
    "            \"mean\": 1.\n",
    "        },\n",
    "        \"basketball top\": {\n",
    "            \"wavelength\": 365.,\n",
    "            \"amplitude\": 0.2,\n",
    "            \"phase\": 0.,\n",
    "            \"mean\": 1.\n",
    "        }\n",
    "    }\n",
    ")\n",
    "product_seasonal_components.plot(start_date=start_date, end_date=end_date)"
   ]
  },
  {
   "cell_type": "markdown",
   "metadata": {
    "pycharm": {
     "name": "#%% md\n"
    }
   },
   "source": [
    "We add some noise to the dataset. In this case, we add Gaussian White Noise."
   ]
  },
  {
   "cell_type": "code",
   "execution_count": null,
   "metadata": {
    "pycharm": {
     "name": "#%%\n"
    }
   },
   "outputs": [],
   "source": [
    "white_noise = WhiteNoise()\n",
    "white_noise.plot(start_date=start_date, end_date=end_date)"
   ]
  },
  {
   "cell_type": "markdown",
   "metadata": {
    "pycharm": {
     "name": "#%% md\n"
    }
   },
   "source": [
    "Now that we have viewed each of the different components, we can add them together in the generator to obtain the synthetic timeseries."
   ]
  },
  {
   "cell_type": "code",
   "execution_count": null,
   "metadata": {
    "pycharm": {
     "name": "#%%\n"
    }
   },
   "outputs": [],
   "source": [
    "features_dict = {\n",
    "        \"country\": [\"Netherlands\", \"Italy\", \"Romania\"],\n",
    "        \"store\": [\"store1\", \"store2\", \"store3\"],\n",
    "        \"product\": [\"winter jacket\", \"Yoga Mat\", \"basketball top\"]\n",
    "    }\n",
    "g: Generator = Generator(\n",
    "    factors={\n",
    "        c_gdp_factor,\n",
    "        eu_industry_product_factor,\n",
    "        holiday_factor,\n",
    "        weekday_factor,\n",
    "        feature_store_random_components,\n",
    "        feature_product_random_components,\n",
    "        product_seasonal_components,\n",
    "        white_noise\n",
    "    },\n",
    "    features=features_dict,\n",
    "    date_range=pd.date_range(start=start_date, end=end_date),\n",
    "    base_value=10000\n",
    ")\n",
    "    \n",
    "df = g.generate()\n",
    "    \n",
    "plot_df = df.set_index('date')\n",
    "plot_df[['country', 'store', 'value', 'product']].pivot(columns=['country', 'store', 'product'], values='value').plot(figsize=(24,8))"
   ]
  },
  {
   "cell_type": "markdown",
   "metadata": {
    "pycharm": {
     "name": "#%% md\n"
    }
   },
   "source": [
    "## Export the dataset"
   ]
  },
  {
   "cell_type": "markdown",
   "metadata": {
    "pycharm": {
     "name": "#%%\n"
    }
   },
   "source": [
    "df_export = df.drop(axis=1, columns=['base_amount'])\n",
    "df_export.to_csv('synthetic_data.csv', index=False, header=True)"
   ]
  },
  {
   "cell_type": "code",
   "execution_count": null,
   "metadata": {},
   "outputs": [],
   "source": [
    "from __future__ import print_function\n",
    "from ipywidgets import interact, interactive, fixed, interact_manual\n",
    "import ipywidgets as widgets\n",
    "\n",
    "from collections import defaultdict\n",
    "\n",
    "checkbox_feat_dict = features_dict.copy()\n",
    "\n",
    "# create checkbox widgets\n",
    "checkbox_dict = {}\n",
    "vbox_l = [] \n",
    "for feat, feat_vals in checkbox_feat_dict.items():\n",
    "    hbox_l = []\n",
    "    for val in feat_vals:\n",
    "        desc = f'{feat}|{val}'\n",
    "        cb_widget = widgets.Checkbox(\n",
    "                value=False,\n",
    "                description=desc,\n",
    "                disabled=False\n",
    "            )\n",
    "        hbox_l.append(cb_widget)\n",
    "        checkbox_dict[desc] = cb_widget\n",
    "    vbox_l.append(widgets.HBox(hbox_l))\n",
    "\n",
    "ui = widgets.VBox(vbox_l) \n",
    "\n",
    "all_feat_l = list(checkbox_feat_dict.keys())\n",
    "\n",
    "selected_feat = []\n",
    "def plot_select_feat(**kwargs):\n",
    "    selected_feat.clear()\n",
    "\n",
    "    for key in kwargs:\n",
    "        if kwargs[key] is True:\n",
    "            selected_feat.append(key)\n",
    "    \n",
    "    if len(selected_feat) > 0:\n",
    "        # filter dataframe by selected checkbox\n",
    "        feat_sel_l = [(s.split('|')[0], s.split('|')[1]) for s in selected_feat]\n",
    "\n",
    "        #------------------------\n",
    "        # get the conditions\n",
    "        feat_dict = defaultdict(list)\n",
    "        for col, cond in feat_sel_l:\n",
    "            feat_dict[col].append(cond)\n",
    "        \n",
    "        # get `or` conditions for checkbox in the same group, e.g., store=store1 or store2\n",
    "        cond_str_l = []\n",
    "        for col, val_l in feat_dict.items():\n",
    "            or_cond = \" | \".join([f\"(df['{col}'] == {repr(val)})\" for val in val_l])\n",
    "            cond_str_l.append(or_cond)\n",
    "        \n",
    "        # get `and` condidtion for checkbox in differetn group\n",
    "        conditions = \" & \".join([f'({cond})' for cond in cond_str_l])\n",
    "        #--------------------------\n",
    "\n",
    "        df_sel = df[eval(conditions)]\n",
    "        \n",
    "        # get pivot table\n",
    "        df_sel = df_sel.set_index('date')\n",
    "        df_plot = df_sel[all_feat_l + ['value']].pivot(columns=all_feat_l, values='value')\n",
    "        \n",
    "        df_plot.plot(figsize=(24,8))\n",
    "    \n",
    "    \n",
    "\n",
    "out = widgets.interactive_output(plot_select_feat, checkbox_dict)\n",
    "display(ui, out)"
   ]
  },
  {
   "cell_type": "code",
   "execution_count": null,
   "metadata": {},
   "outputs": [],
   "source": []
  }
 ],
 "metadata": {
  "kernelspec": {
   "display_name": "Python 3",
   "language": "python",
   "name": "python3"
  },
  "language_info": {
   "codemirror_mode": {
    "name": "ipython",
    "version": 3
   },
   "file_extension": ".py",
   "mimetype": "text/x-python",
   "name": "python",
   "nbconvert_exporter": "python",
   "pygments_lexer": "ipython3",
   "version": "3.8.7"
  }
 },
 "nbformat": 4,
 "nbformat_minor": 1
}