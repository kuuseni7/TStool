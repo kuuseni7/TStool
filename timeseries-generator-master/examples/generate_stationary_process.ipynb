{
 "cells": [
  {
   "cell_type": "markdown",
   "metadata": {
    "pycharm": {
     "name": "#%% md\n"
    }
   },
   "source": [
    "We want to be able to generate synthetic timeseries data to test and compare our algorithms.\n",
    "In order to have some control over the trends in the timeseries, we use the simple package timeseries generator in this\n",
    "repository."
   ]
  },
  {
   "cell_type": "code",
   "execution_count": null,
   "metadata": {
    "pycharm": {
     "is_executing": true,
     "name": "#%% python\n"
    }
   },
   "outputs": [],
   "source": [
    "from timeseries_generator import LinearTrend, Generator, WhiteNoise, RandomFeatureFactor\n",
    "import pandas as pd\n",
    "\n",
    "%matplotlib inline"
   ]
  },
  {
   "cell_type": "markdown",
   "metadata": {
    "pycharm": {
     "name": "#%% md\n"
    }
   },
   "source": [
    "We can now start by setting up a linear trend.\n",
    "Trends are collected in a generator, which takes any dependent variables as features and the trends you have added to\n",
    "compose the time-series dataframe."
   ]
  },
  {
   "cell_type": "code",
   "execution_count": null,
   "metadata": {
    "pycharm": {
     "name": "#%% python\n"
    }
   },
   "outputs": [],
   "source": [
    "lt = LinearTrend(coef=2.0, offset=1., col_name=\"my_linear_trend\")\n",
    "\n",
    "g: Generator = Generator(factors={lt}, features=None, date_range=pd.date_range(start=\"01-01-2020\", end=\"01-20-2020\"))\n",
    "g.generate()\n",
    "g.plot()"
   ]
  },
  {
   "cell_type": "markdown",
   "metadata": {
    "pycharm": {
     "name": "#%% md\n"
    }
   },
   "source": [
    "We can update our package by adding some white noise to the generator. The white noise adds noise with a standard\n",
    "deviation as a fraction of the total value to our timeseries."
   ]
  },
  {
   "cell_type": "code",
   "execution_count": null,
   "metadata": {
    "pycharm": {
     "name": "#%% python\n"
    }
   },
   "outputs": [],
   "source": [
    "wn = WhiteNoise(stdev_factor=0.05)\n",
    "g.update_factor(wn)\n",
    "g.generate()\n",
    "g.plot()"
   ]
  },
  {
   "cell_type": "markdown",
   "metadata": {
    "pycharm": {
     "name": "#%% md\n"
    }
   },
   "source": [
    "We can add dependent feature columns to our timeseries. In this case, we introduce a random factor to these features.\n",
    "This factor will be dependent on a feature that we introduce to the generator."
   ]
  },
  {
   "cell_type": "code",
   "execution_count": null,
   "metadata": {
    "pycharm": {
     "name": "#%% python\n"
    }
   },
   "outputs": [],
   "source": [
    "rff = RandomFeatureFactor(\n",
    "    feature=\"my_feature\",\n",
    "    feature_values=[\"feature1\", \"feature2\"],\n",
    "    min_factor_value=1,\n",
    "    max_factor_value=10\n",
    ")\n",
    "g.update_factor(rff)\n",
    "g.features = {\"my_feature\": [\"feature1\", \"feature2\"]}\n",
    "df: pd.DataFrame = g.generate()\n",
    "print(df.head(5))"
   ]
  },
  {
   "cell_type": "markdown",
   "metadata": {
    "pycharm": {
     "name": "#%% md\n"
    }
   },
   "source": [
    "The resulting dataframe is a dataframe with all the features and factors influencing the features. We can plot the final value per product."
   ]
  },
  {
   "cell_type": "code",
   "execution_count": null,
   "metadata": {
    "pycharm": {
     "name": "#%% python\n"
    }
   },
   "outputs": [],
   "source": [
    "df_plot=df.set_index('date')\n",
    "df_plot[[\"my_feature\", \"value\"]].pivot(columns=[\"my_feature\"], values=\"value\").plot()"
   ]
  },
  {
   "cell_type": "markdown",
   "metadata": {
    "pycharm": {
     "name": "#%% md\n"
    }
   },
   "source": [
    "We can also add different linear trends for different feature values."
   ]
  },
  {
   "cell_type": "code",
   "execution_count": null,
   "metadata": {
    "pycharm": {
     "name": "#%% python\n"
    }
   },
   "outputs": [],
   "source": [
    "lt2 = LinearTrend(feature=\"my_feature\", feature_values={\n",
    "    \"feature1\": {\"coef\": 1., \"offset\": 1.},\n",
    "    \"feature2\": {\"coef\": 0.05, \"offset\": 1.}\n",
    "})\n",
    "\n",
    "g.update_factor(lt2)\n",
    "df = g.generate()\n",
    "\n",
    "df_plot=df.set_index('date')\n",
    "df_plot[[\"my_feature\", \"value\"]].pivot(columns=[\"my_feature\"], values=\"value\").plot()"
   ]
  },
  {
   "cell_type": "code",
   "execution_count": null,
   "metadata": {},
   "outputs": [],
   "source": []
  }
 ],
 "metadata": {
  "kernelspec": {
   "display_name": "Python 3",
   "language": "python",
   "name": "python3"
  },
  "language_info": {
   "codemirror_mode": {
    "name": "ipython",
    "version": 3
   },
   "file_extension": ".py",
   "mimetype": "text/x-python",
   "name": "python",
   "nbconvert_exporter": "python",
   "pygments_lexer": "ipython3",
   "version": "3.8.7"
  }
 },
 "nbformat": 4,
 "nbformat_minor": 1
}
